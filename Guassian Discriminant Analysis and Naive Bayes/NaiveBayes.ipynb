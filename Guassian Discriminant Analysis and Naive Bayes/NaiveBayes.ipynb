{
 "cells": [
  {
   "cell_type": "code",
   "execution_count": 2,
   "id": "a3264166-2d89-497e-aa95-c78fc12d3518",
   "metadata": {},
   "outputs": [],
   "source": [
    "import numpy as np\n",
    "import pandas as pd"
   ]
  },
  {
   "cell_type": "code",
   "execution_count": 3,
   "id": "804deb0b-d6bc-46f5-b079-5ef89bbfefcb",
   "metadata": {},
   "outputs": [
    {
     "name": "stdout",
     "output_type": "stream",
     "text": [
      "   Contains Buy  Contains Win     Class\n",
      "0             1             1      Spam\n",
      "1             1             1      Spam\n",
      "2             1             0      Spam\n",
      "3             0             1  Not Spam\n",
      "4             0             1  Not Spam\n",
      "5             0             0  Not Spam\n",
      "6             1             0      Spam\n",
      "7             0             0  Not Spam\n"
     ]
    }
   ],
   "source": [
    "#dataset\n",
    "data = {\n",
    "    'Contains Buy': [1, 1, 1, 0, 0, 0, 1, 0],\n",
    "    'Contains Win': [1, 1, 0, 1, 1, 0, 0, 0],\n",
    "    'Class': ['Spam', 'Spam', 'Spam', 'Not Spam', 'Not Spam', 'Not Spam', 'Spam', 'Not Spam']\n",
    "}\n",
    "\n",
    "df = pd.DataFrame(data)\n",
    "print(df)"
   ]
  },
  {
   "cell_type": "code",
   "execution_count": 4,
   "id": "7319e38f-de2b-4d4d-86f2-8cd79c275092",
   "metadata": {},
   "outputs": [
    {
     "name": "stdout",
     "output_type": "stream",
     "text": [
      "Prior Probabilities:\n",
      " Class\n",
      "Spam        0.5\n",
      "Not Spam    0.5\n",
      "Name: count, dtype: float64\n"
     ]
    }
   ],
   "source": [
    "#prior probabilities\n",
    "class_counts = df['Class'].value_counts()\n",
    "total_count = len(df)\n",
    "prior_probs = class_counts / total_count\n",
    "print(\"Prior Probabilities:\\n\", prior_probs)\n"
   ]
  },
  {
   "cell_type": "code",
   "execution_count": 5,
   "id": "c6ed1d94-04bb-415e-9248-d26494897e80",
   "metadata": {},
   "outputs": [],
   "source": [
    "# Number of classes and features\n",
    "features = ['Contains Buy', 'Contains Win']\n",
    "classes = df['Class'].unique()\n",
    "n_classes = len(classes)\n",
    "n_features = len(features)"
   ]
  },
  {
   "cell_type": "code",
   "execution_count": 6,
   "id": "6a87e0c5-f9d7-4f2d-a1ee-e0829b076a01",
   "metadata": {},
   "outputs": [],
   "source": [
    "# Initialize likelihoods\n",
    "likelihoods = {cls: {} for cls in classes}"
   ]
  },
  {
   "cell_type": "code",
   "execution_count": 8,
   "id": "8c31a632-7188-4c57-aeb9-47afb8233e81",
   "metadata": {},
   "outputs": [
    {
     "name": "stdout",
     "output_type": "stream",
     "text": [
      "Likelihoods:\n",
      " {'Spam': {'Contains Buy': {np.int64(1): np.float64(0.8333333333333334), np.int64(0): 0.16666666666666666}, 'Contains Win': {np.int64(1): np.float64(0.5), np.int64(0): np.float64(0.5)}}, 'Not Spam': {'Contains Buy': {np.int64(1): 0.16666666666666666, np.int64(0): np.float64(0.8333333333333334)}, 'Contains Win': {np.int64(1): np.float64(0.5), np.int64(0): np.float64(0.5)}}}\n"
     ]
    }
   ],
   "source": [
    "#Calculate likelihoods with Laplace smoothing\n",
    "for cls in classes:\n",
    "    cls_data = df[df['Class'] == cls]\n",
    "    total_cls_count = len(cls_data)\n",
    "    \n",
    "    for feature in features:\n",
    "        feature_vals = cls_data[feature].value_counts()\n",
    "        likelihoods[cls][feature] = {\n",
    "            val: (feature_vals.get(val, 0) + 1) / (total_cls_count + 2)\n",
    "            for val in df[feature].unique()\n",
    "        }\n",
    "\n",
    "print(\"Likelihoods:\\n\", likelihoods)"
   ]
  },
  {
   "cell_type": "code",
   "execution_count": 9,
   "id": "bd1ccdd8-8907-498b-bff8-b6f9628a7fff",
   "metadata": {},
   "outputs": [
    {
     "name": "stdout",
     "output_type": "stream",
     "text": [
      "Predicted Class for {'Contains Buy': 1, 'Contains Win': 0}: Spam\n"
     ]
    }
   ],
   "source": [
    "def predict(sample):\n",
    "    posterior_probs = {}\n",
    "    \n",
    "    for cls in classes:\n",
    "        prior = prior_probs[cls]\n",
    "        likelihood = 1\n",
    "        for feature in features:\n",
    "            feature_val = sample[feature]\n",
    "            likelihood *= likelihoods[cls][feature].get(feature_val, 1 / (total_count + 2))\n",
    "        \n",
    "        posterior_probs[cls] = prior * likelihood\n",
    "    \n",
    "    # Return the class with the highest posterior probability\n",
    "    return max(posterior_probs, key=posterior_probs.get)\n",
    "\n",
    "# Test the classifier\n",
    "test_sample = {'Contains Buy': 1, 'Contains Win': 0}\n",
    "predicted_class = predict(test_sample)\n",
    "print(f\"Predicted Class for {test_sample}: {predicted_class}\")\n"
   ]
  },
  {
   "cell_type": "code",
   "execution_count": null,
   "id": "0fbae5ee-3c8c-4e63-9256-378504eaca30",
   "metadata": {},
   "outputs": [],
   "source": []
  }
 ],
 "metadata": {
  "kernelspec": {
   "display_name": "Python 3 (ipykernel)",
   "language": "python",
   "name": "python3"
  },
  "language_info": {
   "codemirror_mode": {
    "name": "ipython",
    "version": 3
   },
   "file_extension": ".py",
   "mimetype": "text/x-python",
   "name": "python",
   "nbconvert_exporter": "python",
   "pygments_lexer": "ipython3",
   "version": "3.12.5"
  }
 },
 "nbformat": 4,
 "nbformat_minor": 5
}
